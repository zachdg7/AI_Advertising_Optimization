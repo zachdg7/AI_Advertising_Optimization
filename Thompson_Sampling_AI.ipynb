{
 "cells": [
  {
   "cell_type": "markdown",
   "metadata": {},
   "source": [
    "# Optimize Advertizing Strategies with Thompson Sampling"
   ]
  },
  {
   "cell_type": "markdown",
   "metadata": {},
   "source": [
    "#### Imports:"
   ]
  },
  {
   "cell_type": "code",
   "execution_count": 1,
   "metadata": {},
   "outputs": [],
   "source": [
    "import numpy as np\n",
    "import random\n",
    "import matplotlib.pyplot as plt"
   ]
  },
  {
   "cell_type": "markdown",
   "metadata": {},
   "source": [
    "### Simulate the Success of Advertising Strategies:"
   ]
  },
  {
   "cell_type": "markdown",
   "metadata": {},
   "source": [
    "Assign 1 for successfully attracting a customer, 0 if ineffective."
   ]
  },
  {
   "cell_type": "code",
   "execution_count": 2,
   "metadata": {},
   "outputs": [],
   "source": [
    "# Define the number of potential customers and advertizing strategies.\n",
    "num_viewers = 10000\n",
    "num_strategies = 9"
   ]
  },
  {
   "cell_type": "code",
   "execution_count": 7,
   "metadata": {},
   "outputs": [
    {
     "name": "stdout",
     "output_type": "stream",
     "text": [
      "Conversion Rates:  \n",
      " [0.52602843 0.68531719 0.83567419 0.65376526 0.03702195 0.18015566\n",
      " 0.76056942 0.22430462 0.73513507]\n"
     ]
    }
   ],
   "source": [
    "# Assign a random customer converstion rate for each ad strategy\n",
    "conversion_rates = np.random.RandomState(222).uniform(low=0, high=1, size=num_strategies)\n",
    "print('Conversion Rates: ', '\\n', conversion_rates)\n",
    "\n",
    "# Create empty matrix X\n",
    "X = np.array(np.zeros([num_viewers,num_strategies]))\n",
    "\n",
    "# Simulate adverising success for each potential customer\n",
    "for i in range(num_viewers):\n",
    "    for j in range(num_strategies):\n",
    "        if np.random.rand() <= conversion_rates[j]:\n",
    "            X[i,j] = 1"
   ]
  },
  {
   "cell_type": "markdown",
   "metadata": {},
   "source": [
    "### Thompson Sampling AI Algorithm:\n",
    "We are also going to implement a strategy of randomly choosing Ads to compare performance with Thompson Sampling."
   ]
  },
  {
   "cell_type": "markdown",
   "metadata": {},
   "source": [
    "Initialize variables to be used in algorithm:"
   ]
  },
  {
   "cell_type": "code",
   "execution_count": null,
   "metadata": {},
   "outputs": [],
   "source": [
    "strategies_rand = []\n",
    "strategies_tom = []\n",
    "total_reward_rand = 0\n",
    "total_reward_tom = 0\n",
    "\n",
    "total_reward_bs = 0\n",
    "\n",
    "num_success = [0] * num_strategies\n",
    "num_fail = [0] * num_strategies\n",
    "\n",
    "rewards_strategies = [0] * num_strategies\n",
    "regret = []"
   ]
  },
  {
   "cell_type": "code",
   "execution_count": 8,
   "metadata": {},
   "outputs": [
    {
     "name": "stdout",
     "output_type": "stream",
     "text": [
      "Absolute Return: 3190 $\n",
      "Relative Return: 62 %\n"
     ]
    }
   ],
   "source": [
    "for n in range(0, num_viewers):\n",
    "\n",
    "    # Random Strategy Selection\n",
    "    strategy_rs = random.randrange(num_strategies)\n",
    "    strategies_rand.append(strategy_rs)\n",
    "    reward_rs = X[n, strategy_rs]\n",
    "    total_reward_rand = total_reward_rand + reward_rs\n",
    "\n",
    "    # Thompson Sampling\n",
    "    strategy_ts = 0\n",
    "    max_random = 0\n",
    "\n",
    "    # Loop through each strategy\n",
    "    for i in range(0, num_strategies):\n",
    "        \n",
    "        random_beta = random.betavariate(numbers_of_rewards_1[i] + 1,\n",
    "                                         numbers_of_rewards_0[i] + 1)\n",
    "        if random_beta > max_random:\n",
    "            max_random = random_beta\n",
    "            strategy_ts = i\n",
    "            \n",
    "    reward_ts = X[n, strategy_ts]\n",
    "    \n",
    "    if reward_ts == 1:\n",
    "        numbers_of_rewards_1[strategy_ts] = numbers_of_rewards_1[strategy_ts] + 1\n",
    "    else:\n",
    "        numbers_of_rewards_0[strategy_ts] = numbers_of_rewards_0[strategy_ts] + 1\n",
    "        \n",
    "    strategies_selected_ts.append(strategy_ts)\n",
    "    total_reward_ts = total_reward_ts + reward_ts\n",
    "\n",
    "    # Best Strategy\n",
    "    for i in range(0, num_strategies):\n",
    "        rewards_strategies[i] = rewards_strategies[i] + X[n, i]\n",
    "    total_reward_bs = max(rewards_strategies)\n",
    "\n",
    "    # Regret\n",
    "    regret.append(total_reward_bs - total_reward_ts)\n",
    "\n",
    "# Computing the Absolute and Relative Return\n",
    "absolute_return = total_reward_ts - total_reward_rs\n",
    "relative_return = (total_reward_ts - total_reward_rs) / total_reward_rs * 100\n",
    "print(\"Absolute Return: {:.0f} $\".format(absolute_return))\n",
    "print(\"Relative Return: {:.0f} %\".format(relative_return))"
   ]
  },
  {
   "cell_type": "markdown",
   "metadata": {},
   "source": [
    "### Plot Regret Curve:"
   ]
  },
  {
   "cell_type": "code",
   "execution_count": 9,
   "metadata": {},
   "outputs": [
    {
     "data": {
      "image/png": "[encoded data removed]",
      "text/plain": [
       "<Figure size 432x288 with 1 Axes>"
      ]
     },
     "metadata": {
      "needs_background": "light"
     },
     "output_type": "display_data"
    },
    {
     "data": {
      "image/png": "[encoded data removed]",
      "text/plain": [
       "<Figure size 432x288 with 1 Axes>"
      ]
     },
     "metadata": {
      "needs_background": "light"
     },
     "output_type": "display_data"
    }
   ],
   "source": [
    "# Plotting the Histogram of Strategy Selections\n",
    "plt.hist(strategies_selected_ts)\n",
    "plt.title('Histogram of Strategy Selections')\n",
    "plt.xlabel('Strategy')\n",
    "plt.ylabel('Number of times selected')\n",
    "plt.show()\n",
    "plt.close()\n",
    "\n",
    "# Plotting the Regret Curve\n",
    "plt.plot(regret)\n",
    "plt.title('Regret Curve')\n",
    "plt.xlabel('Advertisement veiwers')\n",
    "plt.ylabel('Regret')\n",
    "plt.show()"
   ]
  },
  {
   "cell_type": "markdown",
   "metadata": {},
   "source": [
    "### Done!"
   ]
  },
  {
   "cell_type": "markdown",
   "metadata": {},
   "source": [
    "<hr>"
   ]
  }
 ],
 "metadata": {
  "kernelspec": {
   "display_name": "Python 3",
   "language": "python",
   "name": "python3"
  },
  "language_info": {
   "codemirror_mode": {
    "name": "ipython",
    "version": 3
   },
   "file_extension": ".py",
   "mimetype": "text/x-python",
   "name": "python",
   "nbconvert_exporter": "python",
   "pygments_lexer": "ipython3",
   "version": "3.6.8"
  }
 },
 "nbformat": 4,
 "nbformat_minor": 2
}
